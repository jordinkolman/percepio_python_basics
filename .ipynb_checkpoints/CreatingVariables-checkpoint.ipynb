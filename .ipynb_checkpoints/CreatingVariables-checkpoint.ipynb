{
 "cells": [
  {
   "cell_type": "code",
   "execution_count": 1,
   "id": "c12c8c68",
   "metadata": {},
   "outputs": [
    {
     "data": {
      "text/plain": [
       "24000"
      ]
     },
     "execution_count": 1,
     "metadata": {},
     "output_type": "execute_result"
    }
   ],
   "source": [
    "24000"
   ]
  },
  {
   "cell_type": "code",
   "execution_count": 2,
   "id": "5f160a3c",
   "metadata": {},
   "outputs": [
    {
     "data": {
      "text/plain": [
       "14000"
      ]
     },
     "execution_count": 2,
     "metadata": {},
     "output_type": "execute_result"
    }
   ],
   "source": [
    "24000 - 10000"
   ]
  },
  {
   "cell_type": "code",
   "execution_count": 3,
   "id": "fa705f2a",
   "metadata": {},
   "outputs": [
    {
     "data": {
      "text/plain": [
       "9000"
      ]
     },
     "execution_count": 3,
     "metadata": {},
     "output_type": "execute_result"
    }
   ],
   "source": [
    "14000 - 5000"
   ]
  },
  {
   "cell_type": "code",
   "execution_count": 4,
   "id": "d1d7a779",
   "metadata": {},
   "outputs": [],
   "source": [
    "salary = 24000"
   ]
  },
  {
   "cell_type": "code",
   "execution_count": 5,
   "id": "4b66f718",
   "metadata": {},
   "outputs": [
    {
     "name": "stdout",
     "output_type": "stream",
     "text": [
      "24000\n"
     ]
    }
   ],
   "source": [
    "print(salary)"
   ]
  },
  {
   "cell_type": "code",
   "execution_count": 9,
   "id": "6e9b1a1d",
   "metadata": {},
   "outputs": [],
   "source": [
    "house_rent = 10000\n",
    "food_exp = 5000"
   ]
  },
  {
   "cell_type": "code",
   "execution_count": 10,
   "id": "eaf6ca66",
   "metadata": {},
   "outputs": [
    {
     "data": {
      "text/plain": [
       "10000"
      ]
     },
     "execution_count": 10,
     "metadata": {},
     "output_type": "execute_result"
    }
   ],
   "source": [
    "house_rent"
   ]
  },
  {
   "cell_type": "code",
   "execution_count": 11,
   "id": "ed9fdf92",
   "metadata": {},
   "outputs": [
    {
     "data": {
      "text/plain": [
       "5000"
      ]
     },
     "execution_count": 11,
     "metadata": {},
     "output_type": "execute_result"
    }
   ],
   "source": [
    "food_exp"
   ]
  },
  {
   "cell_type": "code",
   "execution_count": 13,
   "id": "159aae8f",
   "metadata": {},
   "outputs": [
    {
     "data": {
      "text/plain": [
       "15000"
      ]
     },
     "execution_count": 13,
     "metadata": {},
     "output_type": "execute_result"
    }
   ],
   "source": [
    "total_expense = house_rent + food_exp\n",
    "total_expense"
   ]
  },
  {
   "cell_type": "code",
   "execution_count": 14,
   "id": "e4502214",
   "metadata": {},
   "outputs": [
    {
     "data": {
      "text/plain": [
       "9000"
      ]
     },
     "execution_count": 14,
     "metadata": {},
     "output_type": "execute_result"
    }
   ],
   "source": [
    "savings = salary - total_expense\n",
    "savings"
   ]
  },
  {
   "cell_type": "code",
   "execution_count": 15,
   "id": "498bb010",
   "metadata": {},
   "outputs": [
    {
     "name": "stdout",
     "output_type": "stream",
     "text": [
      "My savings in a year is: 9000\n"
     ]
    }
   ],
   "source": [
    "print(\"My savings in a year is:\", savings)"
   ]
  },
  {
   "cell_type": "code",
   "execution_count": 17,
   "id": "d6f27a2e",
   "metadata": {},
   "outputs": [],
   "source": [
    "course_fee = 299\n",
    "num_of_months = 6"
   ]
  },
  {
   "cell_type": "code",
   "execution_count": 18,
   "id": "acfee98b",
   "metadata": {},
   "outputs": [
    {
     "name": "stdout",
     "output_type": "stream",
     "text": [
      "1794\n"
     ]
    }
   ],
   "source": [
    "total_fee = course_fee * num_of_months\n",
    "print(total_fee)"
   ]
  },
  {
   "cell_type": "code",
   "execution_count": 19,
   "id": "473ad7be",
   "metadata": {},
   "outputs": [],
   "source": [
    "num_1 = 2\n",
    "num_2 = 2"
   ]
  },
  {
   "cell_type": "code",
   "execution_count": 21,
   "id": "63048dd1",
   "metadata": {},
   "outputs": [
    {
     "name": "stdout",
     "output_type": "stream",
     "text": [
      "4\n"
     ]
    }
   ],
   "source": [
    "print(num_1 + num_2)"
   ]
  },
  {
   "cell_type": "code",
   "execution_count": 22,
   "id": "66501d15",
   "metadata": {},
   "outputs": [
    {
     "data": {
      "text/plain": [
       "'daylight'"
      ]
     },
     "execution_count": 22,
     "metadata": {},
     "output_type": "execute_result"
    }
   ],
   "source": [
    "\"day\" + \"light\""
   ]
  },
  {
   "cell_type": "code",
   "execution_count": 23,
   "id": "f7970d1b",
   "metadata": {},
   "outputs": [],
   "source": [
    "num_1 = 2\n",
    "num_2 = '2'"
   ]
  },
  {
   "cell_type": "code",
   "execution_count": 24,
   "id": "077a054e",
   "metadata": {},
   "outputs": [
    {
     "ename": "TypeError",
     "evalue": "unsupported operand type(s) for +: 'int' and 'str'",
     "output_type": "error",
     "traceback": [
      "\u001b[1;31m--------------------------------------------------------------------\u001b[0m",
      "\u001b[1;31mTypeError\u001b[0m                          Traceback (most recent call last)",
      "Input \u001b[1;32mIn [24]\u001b[0m, in \u001b[0;36m<cell line: 1>\u001b[1;34m()\u001b[0m\n\u001b[1;32m----> 1\u001b[0m \u001b[43mnum_1\u001b[49m\u001b[43m \u001b[49m\u001b[38;5;241;43m+\u001b[39;49m\u001b[43m \u001b[49m\u001b[43mnum_2\u001b[49m\n",
      "\u001b[1;31mTypeError\u001b[0m: unsupported operand type(s) for +: 'int' and 'str'"
     ]
    }
   ],
   "source": [
    "num_1 + num_2"
   ]
  },
  {
   "cell_type": "code",
   "execution_count": 25,
   "id": "a021b203",
   "metadata": {},
   "outputs": [
    {
     "data": {
      "text/plain": [
       "int"
      ]
     },
     "execution_count": 25,
     "metadata": {},
     "output_type": "execute_result"
    }
   ],
   "source": [
    "type(num_1)"
   ]
  },
  {
   "cell_type": "code",
   "execution_count": 26,
   "id": "85110cc0",
   "metadata": {},
   "outputs": [
    {
     "data": {
      "text/plain": [
       "str"
      ]
     },
     "execution_count": 26,
     "metadata": {},
     "output_type": "execute_result"
    }
   ],
   "source": [
    "type(num_2)"
   ]
  },
  {
   "cell_type": "code",
   "execution_count": 27,
   "id": "22593cbd",
   "metadata": {},
   "outputs": [],
   "source": [
    "x = True"
   ]
  },
  {
   "cell_type": "code",
   "execution_count": 28,
   "id": "0f878681",
   "metadata": {},
   "outputs": [],
   "source": [
    "y = False"
   ]
  },
  {
   "cell_type": "code",
   "execution_count": 29,
   "id": "ebb27a2d",
   "metadata": {},
   "outputs": [
    {
     "name": "stdout",
     "output_type": "stream",
     "text": [
      "x and y is: False\n"
     ]
    }
   ],
   "source": [
    "print('x and y is:', x and y)"
   ]
  },
  {
   "cell_type": "code",
   "execution_count": 30,
   "id": "b269bf56",
   "metadata": {},
   "outputs": [
    {
     "name": "stdout",
     "output_type": "stream",
     "text": [
      "x or y is: True\n"
     ]
    }
   ],
   "source": [
    "print('x or y is:', x or y)"
   ]
  },
  {
   "cell_type": "code",
   "execution_count": 31,
   "id": "1ac7db5e",
   "metadata": {},
   "outputs": [
    {
     "name": "stdout",
     "output_type": "stream",
     "text": [
      "not x is: False\n"
     ]
    }
   ],
   "source": [
    "print('not x is:', not x)"
   ]
  },
  {
   "cell_type": "code",
   "execution_count": 32,
   "id": "8b20c1e4",
   "metadata": {},
   "outputs": [
    {
     "name": "stdout",
     "output_type": "stream",
     "text": [
      "not y is: True\n"
     ]
    }
   ],
   "source": [
    "print('not y is:', not y)"
   ]
  },
  {
   "cell_type": "code",
   "execution_count": 33,
   "id": "d5a679b9",
   "metadata": {},
   "outputs": [],
   "source": [
    "x = 'awesome'"
   ]
  },
  {
   "cell_type": "code",
   "execution_count": 34,
   "id": "caeac442",
   "metadata": {},
   "outputs": [
    {
     "name": "stdout",
     "output_type": "stream",
     "text": [
      "Python is awesome\n"
     ]
    }
   ],
   "source": [
    "print(\"Python is \" + x)"
   ]
  },
  {
   "cell_type": "code",
   "execution_count": 38,
   "id": "fbbb6b7d",
   "metadata": {},
   "outputs": [
    {
     "name": "stdout",
     "output_type": "stream",
     "text": [
      "Python is awesome \n"
     ]
    }
   ],
   "source": [
    "x = 'Python is '\n",
    "y = 'awesome '\n",
    "\n",
    "z = x + y\n",
    "\n",
    "print(z)"
   ]
  },
  {
   "cell_type": "code",
   "execution_count": 39,
   "id": "1c7dfc07",
   "metadata": {},
   "outputs": [
    {
     "name": "stdout",
     "output_type": "stream",
     "text": [
      "Python is awesome Python is awesome Python is awesome Python is awesome \n"
     ]
    }
   ],
   "source": [
    "a = z * 4\n",
    "print(a)"
   ]
  },
  {
   "cell_type": "code",
   "execution_count": 40,
   "id": "068b2757",
   "metadata": {},
   "outputs": [
    {
     "data": {
      "text/plain": [
       "10"
      ]
     },
     "execution_count": 40,
     "metadata": {},
     "output_type": "execute_result"
    }
   ],
   "source": [
    "len(x)"
   ]
  },
  {
   "cell_type": "code",
   "execution_count": 41,
   "id": "0b5ee063",
   "metadata": {},
   "outputs": [
    {
     "data": {
      "text/plain": [
       "18"
      ]
     },
     "execution_count": 41,
     "metadata": {},
     "output_type": "execute_result"
    }
   ],
   "source": [
    "len(z)"
   ]
  },
  {
   "cell_type": "code",
   "execution_count": 42,
   "id": "e132f619",
   "metadata": {},
   "outputs": [
    {
     "name": "stdout",
     "output_type": "stream",
     "text": [
      "Python\n",
      "Python\n",
      "Python\n"
     ]
    }
   ],
   "source": [
    "x = y = z = 'Python'\n",
    "\n",
    "print(x)\n",
    "print(y)\n",
    "print(z)"
   ]
  },
  {
   "cell_type": "code",
   "execution_count": 43,
   "id": "f443be55",
   "metadata": {},
   "outputs": [
    {
     "data": {
      "text/plain": [
       "'PythonPython'"
      ]
     },
     "execution_count": 43,
     "metadata": {},
     "output_type": "execute_result"
    }
   ],
   "source": [
    "b = x + y\n",
    "\n",
    "b"
   ]
  },
  {
   "cell_type": "code",
   "execution_count": 44,
   "id": "631312bf",
   "metadata": {},
   "outputs": [
    {
     "name": "stdout",
     "output_type": "stream",
     "text": [
      "True\n"
     ]
    }
   ],
   "source": [
    "x = y == z\n",
    "\n",
    "print (x)"
   ]
  },
  {
   "cell_type": "code",
   "execution_count": 45,
   "id": "ee23936d",
   "metadata": {},
   "outputs": [
    {
     "name": "stdout",
     "output_type": "stream",
     "text": [
      "5\n",
      "3.2\n",
      "Hello\n"
     ]
    }
   ],
   "source": [
    "a, b, c = 5, 3.2, 'Hello'\n",
    "\n",
    "print(a)\n",
    "print(b)\n",
    "print(c)"
   ]
  },
  {
   "cell_type": "code",
   "execution_count": 46,
   "id": "a3963f2c",
   "metadata": {},
   "outputs": [
    {
     "name": "stdout",
     "output_type": "stream",
     "text": [
      "Red Blue\n"
     ]
    }
   ],
   "source": [
    "color_a = 'Red'\n",
    "color_b = 'Blue'\n",
    "\n",
    "print(color_a, color_b)"
   ]
  },
  {
   "cell_type": "code",
   "execution_count": 47,
   "id": "f4ffb515",
   "metadata": {},
   "outputs": [
    {
     "name": "stdout",
     "output_type": "stream",
     "text": [
      "Red Blue Red\n"
     ]
    }
   ],
   "source": [
    "color_c = color_a\n",
    "print(color_a, color_b, color_c)"
   ]
  },
  {
   "cell_type": "code",
   "execution_count": 48,
   "id": "b8013dee",
   "metadata": {},
   "outputs": [
    {
     "name": "stdout",
     "output_type": "stream",
     "text": [
      "Blue Blue Red\n"
     ]
    }
   ],
   "source": [
    "color_a = color_b\n",
    "print(color_a, color_b, color_c)"
   ]
  },
  {
   "cell_type": "code",
   "execution_count": null,
   "id": "56095783",
   "metadata": {},
   "outputs": [],
   "source": []
  }
 ],
 "metadata": {
  "kernelspec": {
   "display_name": "Python 3 (ipykernel)",
   "language": "python",
   "name": "python3"
  },
  "language_info": {
   "codemirror_mode": {
    "name": "ipython",
    "version": 3
   },
   "file_extension": ".py",
   "mimetype": "text/x-python",
   "name": "python",
   "nbconvert_exporter": "python",
   "pygments_lexer": "ipython3",
   "version": "3.9.12"
  }
 },
 "nbformat": 4,
 "nbformat_minor": 5
}
