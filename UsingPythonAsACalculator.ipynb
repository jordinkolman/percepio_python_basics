{
 "cells": [
  {
   "cell_type": "code",
   "execution_count": 2,
   "id": "8b3fc335",
   "metadata": {},
   "outputs": [
    {
     "name": "stdout",
     "output_type": "stream",
     "text": [
      "Python 3.9.12\n"
     ]
    }
   ],
   "source": [
    "!python --version"
   ]
  },
  {
   "cell_type": "code",
   "execution_count": 3,
   "id": "f379a00f",
   "metadata": {},
   "outputs": [
    {
     "data": {
      "text/plain": [
       "16"
      ]
     },
     "execution_count": 3,
     "metadata": {},
     "output_type": "execute_result"
    }
   ],
   "source": [
    "7 + 9"
   ]
  },
  {
   "cell_type": "code",
   "execution_count": 4,
   "id": "e244a0aa",
   "metadata": {},
   "outputs": [
    {
     "data": {
      "text/plain": [
       "67"
      ]
     },
     "execution_count": 4,
     "metadata": {},
     "output_type": "execute_result"
    }
   ],
   "source": [
    "20 + 47"
   ]
  },
  {
   "cell_type": "code",
   "execution_count": 5,
   "id": "8110f7d3",
   "metadata": {},
   "outputs": [
    {
     "data": {
      "text/plain": [
       "38.9"
      ]
     },
     "execution_count": 5,
     "metadata": {},
     "output_type": "execute_result"
    }
   ],
   "source": [
    "27.5 + 9.4 + 2"
   ]
  },
  {
   "cell_type": "code",
   "execution_count": 6,
   "id": "3a36078e",
   "metadata": {},
   "outputs": [
    {
     "data": {
      "text/plain": [
       "7"
      ]
     },
     "execution_count": 6,
     "metadata": {},
     "output_type": "execute_result"
    }
   ],
   "source": [
    "17 - 10"
   ]
  },
  {
   "cell_type": "code",
   "execution_count": 7,
   "id": "1fe3d73d",
   "metadata": {},
   "outputs": [
    {
     "data": {
      "text/plain": [
       "10.000000000000002"
      ]
     },
     "execution_count": 7,
     "metadata": {},
     "output_type": "execute_result"
    }
   ],
   "source": [
    "23.6 - 13.6"
   ]
  },
  {
   "cell_type": "code",
   "execution_count": 8,
   "id": "1943a49c",
   "metadata": {},
   "outputs": [
    {
     "data": {
      "text/plain": [
       "23.9"
      ]
     },
     "execution_count": 8,
     "metadata": {},
     "output_type": "execute_result"
    }
   ],
   "source": [
    "27.5 + 9.4 - 13"
   ]
  },
  {
   "cell_type": "code",
   "execution_count": 9,
   "id": "6eaa7dd6",
   "metadata": {},
   "outputs": [
    {
     "data": {
      "text/plain": [
       "12"
      ]
     },
     "execution_count": 9,
     "metadata": {},
     "output_type": "execute_result"
    }
   ],
   "source": [
    "2 * 6"
   ]
  },
  {
   "cell_type": "code",
   "execution_count": 10,
   "id": "16705476",
   "metadata": {},
   "outputs": [
    {
     "data": {
      "text/plain": [
       "55.0"
      ]
     },
     "execution_count": 10,
     "metadata": {},
     "output_type": "execute_result"
    }
   ],
   "source": [
    "10 * 5.5"
   ]
  },
  {
   "cell_type": "code",
   "execution_count": 11,
   "id": "995dffd9",
   "metadata": {},
   "outputs": [
    {
     "data": {
      "text/plain": [
       "8"
      ]
     },
     "execution_count": 11,
     "metadata": {},
     "output_type": "execute_result"
    }
   ],
   "source": [
    "2 * 3 * 1 + 2"
   ]
  },
  {
   "cell_type": "code",
   "execution_count": 12,
   "id": "95c9a254",
   "metadata": {},
   "outputs": [
    {
     "data": {
      "text/plain": [
       "18"
      ]
     },
     "execution_count": 12,
     "metadata": {},
     "output_type": "execute_result"
    }
   ],
   "source": [
    "2 * 3 * (1 + 2)"
   ]
  },
  {
   "cell_type": "code",
   "execution_count": 13,
   "id": "6fce6d11",
   "metadata": {},
   "outputs": [
    {
     "data": {
      "text/plain": [
       "100"
      ]
     },
     "execution_count": 13,
     "metadata": {},
     "output_type": "execute_result"
    }
   ],
   "source": [
    "10 ** 2"
   ]
  },
  {
   "cell_type": "code",
   "execution_count": 14,
   "id": "bbb0118c",
   "metadata": {},
   "outputs": [
    {
     "data": {
      "text/plain": [
       "2.0"
      ]
     },
     "execution_count": 14,
     "metadata": {},
     "output_type": "execute_result"
    }
   ],
   "source": [
    "10 / 5"
   ]
  },
  {
   "cell_type": "code",
   "execution_count": 15,
   "id": "f5cce3ea",
   "metadata": {},
   "outputs": [
    {
     "data": {
      "text/plain": [
       "2"
      ]
     },
     "execution_count": 15,
     "metadata": {},
     "output_type": "execute_result"
    }
   ],
   "source": [
    "10 // 5"
   ]
  },
  {
   "cell_type": "code",
   "execution_count": 16,
   "id": "35e2e85f",
   "metadata": {},
   "outputs": [
    {
     "data": {
      "text/plain": [
       "3.0"
      ]
     },
     "execution_count": 16,
     "metadata": {},
     "output_type": "execute_result"
    }
   ],
   "source": [
    "10.5 // 3"
   ]
  },
  {
   "cell_type": "code",
   "execution_count": 17,
   "id": "70a9011c",
   "metadata": {},
   "outputs": [
    {
     "data": {
      "text/plain": [
       "2"
      ]
     },
     "execution_count": 17,
     "metadata": {},
     "output_type": "execute_result"
    }
   ],
   "source": [
    "50 % 4"
   ]
  },
  {
   "cell_type": "code",
   "execution_count": 18,
   "id": "e2a7600f",
   "metadata": {},
   "outputs": [
    {
     "data": {
      "text/plain": [
       "0"
      ]
     },
     "execution_count": 18,
     "metadata": {},
     "output_type": "execute_result"
    }
   ],
   "source": [
    "50 % 5"
   ]
  },
  {
   "cell_type": "code",
   "execution_count": 19,
   "id": "f0245095",
   "metadata": {},
   "outputs": [
    {
     "data": {
      "text/plain": [
       "35.0"
      ]
     },
     "execution_count": 19,
     "metadata": {},
     "output_type": "execute_result"
    }
   ],
   "source": [
    "40.5 - 2 * (4 + 7) / 4 "
   ]
  },
  {
   "cell_type": "code",
   "execution_count": 20,
   "id": "6d771920",
   "metadata": {},
   "outputs": [
    {
     "data": {
      "text/plain": [
       "37.0"
      ]
     },
     "execution_count": 20,
     "metadata": {},
     "output_type": "execute_result"
    }
   ],
   "source": [
    "(40.5 * 10 - 20 * (4 + 7)) / 5"
   ]
  },
  {
   "cell_type": "code",
   "execution_count": 21,
   "id": "4285a273",
   "metadata": {},
   "outputs": [
    {
     "data": {
      "text/plain": [
       "'Hello Oliver! Hello Oliver! Hello Oliver! '"
      ]
     },
     "execution_count": 21,
     "metadata": {},
     "output_type": "execute_result"
    }
   ],
   "source": [
    "\"Hello Oliver! \" * 3"
   ]
  },
  {
   "cell_type": "code",
   "execution_count": null,
   "id": "7d7e4c23",
   "metadata": {},
   "outputs": [],
   "source": []
  }
 ],
 "metadata": {
  "kernelspec": {
   "display_name": "Python 3 (ipykernel)",
   "language": "python",
   "name": "python3"
  },
  "language_info": {
   "codemirror_mode": {
    "name": "ipython",
    "version": 3
   },
   "file_extension": ".py",
   "mimetype": "text/x-python",
   "name": "python",
   "nbconvert_exporter": "python",
   "pygments_lexer": "ipython3",
   "version": "3.9.12"
  }
 },
 "nbformat": 4,
 "nbformat_minor": 5
}
