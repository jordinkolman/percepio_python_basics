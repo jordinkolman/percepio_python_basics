{
 "cells": [
  {
   "cell_type": "code",
   "execution_count": 1,
   "id": "c93c00ac",
   "metadata": {},
   "outputs": [
    {
     "name": "stdout",
     "output_type": "stream",
     "text": [
      "I am a single quoted string\n"
     ]
    }
   ],
   "source": [
    "print('I am a single quoted string')"
   ]
  },
  {
   "cell_type": "code",
   "execution_count": 2,
   "id": "11753b92",
   "metadata": {},
   "outputs": [
    {
     "name": "stdout",
     "output_type": "stream",
     "text": [
      "I am a double quoted string\n"
     ]
    }
   ],
   "source": [
    "print(\"I am a double quoted string\")"
   ]
  },
  {
   "cell_type": "code",
   "execution_count": 4,
   "id": "7e57a180",
   "metadata": {},
   "outputs": [
    {
     "name": "stdout",
     "output_type": "stream",
     "text": [
      "python is awesome\n"
     ]
    }
   ],
   "source": [
    "print(\"python \" + 'is ' + \"\"\"awesome\"\"\")"
   ]
  },
  {
   "cell_type": "code",
   "execution_count": 5,
   "id": "2a13dd49",
   "metadata": {},
   "outputs": [
    {
     "name": "stdout",
     "output_type": "stream",
     "text": [
      "python python python \n"
     ]
    }
   ],
   "source": [
    "print('python ' * 3)"
   ]
  },
  {
   "cell_type": "code",
   "execution_count": 6,
   "id": "bdb3dbb8",
   "metadata": {},
   "outputs": [
    {
     "ename": "TypeError",
     "evalue": "unsupported operand type(s) for -: 'str' and 'int'",
     "output_type": "error",
     "traceback": [
      "\u001b[1;31m--------------------------------------------------------------------\u001b[0m",
      "\u001b[1;31mTypeError\u001b[0m                          Traceback (most recent call last)",
      "Input \u001b[1;32mIn [6]\u001b[0m, in \u001b[0;36m<cell line: 1>\u001b[1;34m()\u001b[0m\n\u001b[1;32m----> 1\u001b[0m \u001b[38;5;28mprint\u001b[39m(\u001b[38;5;124;43m'\u001b[39;49m\u001b[38;5;124;43mpython \u001b[39;49m\u001b[38;5;124;43m'\u001b[39;49m\u001b[43m \u001b[49m\u001b[38;5;241;43m-\u001b[39;49m\u001b[43m \u001b[49m\u001b[38;5;241;43m3\u001b[39;49m)\n",
      "\u001b[1;31mTypeError\u001b[0m: unsupported operand type(s) for -: 'str' and 'int'"
     ]
    }
   ],
   "source": [
    "print('python ' - 3)"
   ]
  },
  {
   "cell_type": "code",
   "execution_count": 7,
   "id": "0d97c37a",
   "metadata": {},
   "outputs": [
    {
     "name": "stdout",
     "output_type": "stream",
     "text": [
      "pasta\n",
      "You had pasta! That sound delicious!\n"
     ]
    }
   ],
   "source": [
    "question = \"What did you have for lunch?\"\n",
    "answer = input()\n",
    "\n",
    "print(\"You had \" + answer + \"!\" + \" That sound delicious!\")"
   ]
  },
  {
   "cell_type": "code",
   "execution_count": 8,
   "id": "a8d4fcd0",
   "metadata": {},
   "outputs": [
    {
     "ename": "SyntaxError",
     "evalue": "invalid syntax (323132246.py, line 1)",
     "output_type": "error",
     "traceback": [
      "\u001b[1;36m  Input \u001b[1;32mIn [8]\u001b[1;36m\u001b[0m\n\u001b[1;33m    print('I'm learning python')\u001b[0m\n\u001b[1;37m             ^\u001b[0m\n\u001b[1;31mSyntaxError\u001b[0m\u001b[1;31m:\u001b[0m invalid syntax\n"
     ]
    }
   ],
   "source": [
    "print('I'm learning python')"
   ]
  },
  {
   "cell_type": "code",
   "execution_count": 9,
   "id": "30da9235",
   "metadata": {},
   "outputs": [
    {
     "name": "stdout",
     "output_type": "stream",
     "text": [
      "I'm learning python\n"
     ]
    }
   ],
   "source": [
    "print(\"I'm learning python\")"
   ]
  },
  {
   "cell_type": "code",
   "execution_count": 10,
   "id": "d2ad6eef",
   "metadata": {},
   "outputs": [
    {
     "name": "stdout",
     "output_type": "stream",
     "text": [
      "John said \"Hello there!\"\n"
     ]
    }
   ],
   "source": [
    "print('John said \"Hello there!\"')"
   ]
  },
  {
   "cell_type": "code",
   "execution_count": 11,
   "id": "973bf865",
   "metadata": {},
   "outputs": [
    {
     "name": "stdout",
     "output_type": "stream",
     "text": [
      "I'm learning python\n"
     ]
    }
   ],
   "source": [
    "print('I\\'m learning python')"
   ]
  },
  {
   "cell_type": "code",
   "execution_count": 12,
   "id": "8fd5b96a",
   "metadata": {},
   "outputs": [
    {
     "name": "stdout",
     "output_type": "stream",
     "text": [
      "John said \"Hello there!\"\n"
     ]
    }
   ],
   "source": [
    "print(\"John said \\\"Hello there!\\\"\")"
   ]
  },
  {
   "cell_type": "code",
   "execution_count": 13,
   "id": "8c7079e4",
   "metadata": {},
   "outputs": [
    {
     "name": "stdout",
     "output_type": "stream",
     "text": [
      "I'm learning \"python\"\n"
     ]
    }
   ],
   "source": [
    "print('I\\'m learning \"python\"')"
   ]
  },
  {
   "cell_type": "code",
   "execution_count": 14,
   "id": "ee046eb9",
   "metadata": {},
   "outputs": [
    {
     "name": "stdout",
     "output_type": "stream",
     "text": [
      "Hello John! \n",
      "How are you?\n"
     ]
    }
   ],
   "source": [
    "print(\"Hello John! \\nHow are you?\")"
   ]
  },
  {
   "cell_type": "code",
   "execution_count": 15,
   "id": "03ec00a4",
   "metadata": {},
   "outputs": [
    {
     "name": "stdout",
     "output_type": "stream",
     "text": [
      "this is a very long line \n",
      "but we can have it span \n",
      "multiple lines.\n"
     ]
    }
   ],
   "source": [
    "print(\"this is a very long line \\nbut we can have it span \\nmultiple lines.\")"
   ]
  },
  {
   "cell_type": "code",
   "execution_count": 16,
   "id": "6525c5e8",
   "metadata": {},
   "outputs": [
    {
     "name": "stdout",
     "output_type": "stream",
     "text": [
      "I am a triple quoted string. I'm good for multi-line strings\n"
     ]
    }
   ],
   "source": [
    "print(\"\"\"I am a triple quoted string. I'm good for multi-line strings\"\"\")"
   ]
  },
  {
   "cell_type": "code",
   "execution_count": 17,
   "id": "05da039f",
   "metadata": {},
   "outputs": [
    {
     "name": "stdout",
     "output_type": "stream",
     "text": [
      "This is a very long\n",
      "string in python\n"
     ]
    }
   ],
   "source": [
    "print('''This is a very long\n",
    "string in python''')"
   ]
  },
  {
   "cell_type": "code",
   "execution_count": 18,
   "id": "256d09c2",
   "metadata": {},
   "outputs": [
    {
     "name": "stdout",
     "output_type": "stream",
     "text": [
      "This is a very long\n",
      "string in python\n"
     ]
    }
   ],
   "source": [
    "print(\"\"\"This is a very long\n",
    "string in python\"\"\")"
   ]
  },
  {
   "cell_type": "code",
   "execution_count": 19,
   "id": "ba03bc0d",
   "metadata": {},
   "outputs": [
    {
     "name": "stdout",
     "output_type": "stream",
     "text": [
      "A dog barks!\n"
     ]
    }
   ],
   "source": [
    "my_var = 'barks'\n",
    "\n",
    "print('A dog ' + my_var + '!')"
   ]
  },
  {
   "cell_type": "code",
   "execution_count": 21,
   "id": "93eb78b0",
   "metadata": {},
   "outputs": [
    {
     "name": "stdout",
     "output_type": "stream",
     "text": [
      "A dog barks!\n"
     ]
    }
   ],
   "source": [
    "print(f'A dog {my_var}!')"
   ]
  },
  {
   "cell_type": "code",
   "execution_count": 22,
   "id": "51959078",
   "metadata": {},
   "outputs": [
    {
     "name": "stdout",
     "output_type": "stream",
     "text": [
      "A dog barks!\n"
     ]
    }
   ],
   "source": [
    "print(f'''A dog {my_var}!''')"
   ]
  },
  {
   "cell_type": "code",
   "execution_count": 23,
   "id": "c9957129",
   "metadata": {},
   "outputs": [
    {
     "name": "stdout",
     "output_type": "stream",
     "text": [
      "A dog barks\n"
     ]
    }
   ],
   "source": [
    "print('A dog {}'.format(my_var))"
   ]
  },
  {
   "cell_type": "code",
   "execution_count": 24,
   "id": "ece2bdf9",
   "metadata": {},
   "outputs": [
    {
     "name": "stdout",
     "output_type": "stream",
     "text": [
      "John asked \t'How are you?''\n"
     ]
    }
   ],
   "source": [
    "print(\"John asked \\t'How are you?''\")"
   ]
  },
  {
   "cell_type": "code",
   "execution_count": 25,
   "id": "b87e5741",
   "metadata": {},
   "outputs": [
    {
     "name": "stdout",
     "output_type": "stream",
     "text": [
      "Hello \t World\n"
     ]
    }
   ],
   "source": [
    "print(\"Hello \\t World\")"
   ]
  },
  {
   "cell_type": "code",
   "execution_count": 26,
   "id": "cc49c5e5",
   "metadata": {},
   "outputs": [
    {
     "name": "stdout",
     "output_type": "stream",
     "text": [
      "C:\\Users\\Q\n"
     ]
    }
   ],
   "source": [
    "print('C:\\\\Users\\\\Q')"
   ]
  },
  {
   "cell_type": "code",
   "execution_count": null,
   "id": "360029df",
   "metadata": {},
   "outputs": [],
   "source": []
  }
 ],
 "metadata": {
  "kernelspec": {
   "display_name": "Python 3 (ipykernel)",
   "language": "python",
   "name": "python3"
  },
  "language_info": {
   "codemirror_mode": {
    "name": "ipython",
    "version": 3
   },
   "file_extension": ".py",
   "mimetype": "text/x-python",
   "name": "python",
   "nbconvert_exporter": "python",
   "pygments_lexer": "ipython3",
   "version": "3.9.12"
  }
 },
 "nbformat": 4,
 "nbformat_minor": 5
}
